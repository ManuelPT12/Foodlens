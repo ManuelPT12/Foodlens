{
 "cells": [
  {
   "cell_type": "code",
   "execution_count": 1,
   "id": "13ce7c0a",
   "metadata": {},
   "outputs": [
    {
     "name": "stderr",
     "output_type": "stream",
     "text": [
      "Using CPU. Note: This module is much faster with a GPU.\n"
     ]
    }
   ],
   "source": [
    "import easyocr\n",
    "import cv2\n",
    "import os\n",
    "import pandas as pd\n",
    "from uuid import uuid4\n",
    "\n",
    "# Rutas\n",
    "input_image_path = \"img/menu.png\"  # tu imagen completa de menú\n",
    "output_dir = \"es_menu_train\"       # carpeta destino\n",
    "\n",
    "os.makedirs(output_dir, exist_ok=True)\n",
    "\n",
    "reader = easyocr.Reader(['es'], gpu=False)\n",
    "image = cv2.imread(input_image_path)\n",
    "results = reader.readtext(image)\n",
    "\n",
    "data = []\n",
    "for idx, (bbox, text, _) in enumerate(results):\n",
    "    pts = bbox\n",
    "    x_coords = [int(pt[0]) for pt in pts]\n",
    "    y_coords = [int(pt[1]) for pt in pts]\n",
    "    x_min, x_max = max(min(x_coords), 0), min(max(x_coords), image.shape[1])\n",
    "    y_min, y_max = max(min(y_coords), 0), min(max(y_coords), image.shape[0])\n",
    "\n",
    "    cropped = image[y_min:y_max, x_min:x_max]\n",
    "    file_id = f\"line_{idx}_{uuid4().hex[:6]}.png\"\n",
    "    file_path = os.path.join(output_dir, file_id)\n",
    "    cv2.imwrite(file_path, cropped)\n",
    "\n",
    "    data.append({'filename': file_id, 'words': text})\n",
    "\n",
    "df = pd.DataFrame(data)\n",
    "df.to_csv(os.path.join(output_dir, \"labels.csv\"), index=False)\n"
   ]
  }
 ],
 "metadata": {
  "kernelspec": {
   "display_name": "Python 3",
   "language": "python",
   "name": "python3"
  },
  "language_info": {
   "codemirror_mode": {
    "name": "ipython",
    "version": 3
   },
   "file_extension": ".py",
   "mimetype": "text/x-python",
   "name": "python",
   "nbconvert_exporter": "python",
   "pygments_lexer": "ipython3",
   "version": "3.12.1"
  }
 },
 "nbformat": 4,
 "nbformat_minor": 5
}
