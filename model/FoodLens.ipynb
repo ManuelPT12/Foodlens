{
 "cells": [
  {
   "cell_type": "code",
   "execution_count": 5,
   "id": "065d16db",
   "metadata": {},
   "outputs": [
    {
     "name": "stdout",
     "output_type": "stream",
     "text": [
      "Collecting easyocr\n",
      "  Downloading easyocr-1.7.2-py3-none-any.whl.metadata (10 kB)\n",
      "Collecting torch (from easyocr)\n",
      "  Using cached torch-2.7.0-cp312-cp312-win_amd64.whl.metadata (29 kB)\n",
      "Collecting torchvision>=0.5 (from easyocr)\n",
      "  Using cached torchvision-0.22.0-cp312-cp312-win_amd64.whl.metadata (6.3 kB)\n",
      "Requirement already satisfied: opencv-python-headless in c:\\phython\\lib\\site-packages (from easyocr) (4.11.0.86)\n",
      "Requirement already satisfied: scipy in c:\\phython\\lib\\site-packages (from easyocr) (1.15.2)\n",
      "Requirement already satisfied: numpy in c:\\users\\manuel peña torres\\appdata\\roaming\\python\\python312\\site-packages (from easyocr) (1.26.4)\n",
      "Requirement already satisfied: Pillow in c:\\phython\\lib\\site-packages (from easyocr) (11.2.1)\n",
      "Requirement already satisfied: scikit-image in c:\\phython\\lib\\site-packages (from easyocr) (0.25.2)\n",
      "Collecting python-bidi (from easyocr)\n",
      "  Downloading python_bidi-0.6.6-cp312-cp312-win_amd64.whl.metadata (5.0 kB)\n",
      "Requirement already satisfied: PyYAML in c:\\phython\\lib\\site-packages (from easyocr) (6.0.2)\n",
      "Requirement already satisfied: Shapely in c:\\phython\\lib\\site-packages (from easyocr) (2.1.0)\n",
      "Requirement already satisfied: pyclipper in c:\\phython\\lib\\site-packages (from easyocr) (1.3.0.post6)\n",
      "Collecting ninja (from easyocr)\n",
      "  Downloading ninja-1.11.1.4-py3-none-win_amd64.whl.metadata (5.0 kB)\n",
      "Requirement already satisfied: filelock in c:\\phython\\lib\\site-packages (from torch->easyocr) (3.18.0)\n",
      "Requirement already satisfied: typing-extensions>=4.10.0 in c:\\phython\\lib\\site-packages (from torch->easyocr) (4.13.2)\n",
      "Requirement already satisfied: sympy>=1.13.3 in c:\\phython\\lib\\site-packages (from torch->easyocr) (1.14.0)\n",
      "Requirement already satisfied: networkx in c:\\phython\\lib\\site-packages (from torch->easyocr) (3.4.2)\n",
      "Requirement already satisfied: jinja2 in c:\\phython\\lib\\site-packages (from torch->easyocr) (3.1.4)\n",
      "Requirement already satisfied: fsspec in c:\\phython\\lib\\site-packages (from torch->easyocr) (2025.3.2)\n",
      "Requirement already satisfied: setuptools in c:\\phython\\lib\\site-packages (from torch->easyocr) (72.2.0)\n",
      "Requirement already satisfied: imageio!=2.35.0,>=2.33 in c:\\phython\\lib\\site-packages (from scikit-image->easyocr) (2.37.0)\n",
      "Requirement already satisfied: tifffile>=2022.8.12 in c:\\phython\\lib\\site-packages (from scikit-image->easyocr) (2025.3.30)\n",
      "Requirement already satisfied: packaging>=21 in c:\\users\\manuel peña torres\\appdata\\roaming\\python\\python312\\site-packages (from scikit-image->easyocr) (24.0)\n",
      "Requirement already satisfied: lazy-loader>=0.4 in c:\\phython\\lib\\site-packages (from scikit-image->easyocr) (0.4)\n",
      "Requirement already satisfied: mpmath<1.4,>=1.1.0 in c:\\phython\\lib\\site-packages (from sympy>=1.13.3->torch->easyocr) (1.3.0)\n",
      "Requirement already satisfied: MarkupSafe>=2.0 in c:\\phython\\lib\\site-packages (from jinja2->torch->easyocr) (2.1.5)\n",
      "Downloading easyocr-1.7.2-py3-none-any.whl (2.9 MB)\n",
      "   ---------------------------------------- 0.0/2.9 MB ? eta -:--:--\n",
      "   ---------------------------------------- 2.9/2.9 MB 33.4 MB/s eta 0:00:00\n",
      "Using cached torchvision-0.22.0-cp312-cp312-win_amd64.whl (1.7 MB)\n",
      "Using cached torch-2.7.0-cp312-cp312-win_amd64.whl (212.5 MB)\n",
      "Downloading ninja-1.11.1.4-py3-none-win_amd64.whl (296 kB)\n",
      "Downloading python_bidi-0.6.6-cp312-cp312-win_amd64.whl (160 kB)\n",
      "Installing collected packages: python-bidi, ninja, torch, torchvision, easyocr\n",
      "Successfully installed easyocr-1.7.2 ninja-1.11.1.4 python-bidi-0.6.6 torch-2.7.0 torchvision-0.22.0\n",
      "Note: you may need to restart the kernel to use updated packages.\n"
     ]
    },
    {
     "name": "stderr",
     "output_type": "stream",
     "text": [
      "\n",
      "[notice] A new release of pip is available: 24.2 -> 25.1.1\n",
      "[notice] To update, run: python.exe -m pip install --upgrade pip\n"
     ]
    }
   ],
   "source": [
    "pip install easyocr"
   ]
  },
  {
   "cell_type": "code",
   "execution_count": 7,
   "id": "d131b1d9",
   "metadata": {},
   "outputs": [
    {
     "name": "stdout",
     "output_type": "stream",
     "text": [
      "^C\n"
     ]
    }
   ],
   "source": [
    "!pip uninstall torch torchvision torchaudio\n"
   ]
  },
  {
   "cell_type": "code",
   "execution_count": null,
   "id": "4173f7d2",
   "metadata": {},
   "outputs": [
    {
     "name": "stderr",
     "output_type": "stream",
     "text": [
      "WARNING: Skipping torch as it is not installed.\n",
      "WARNING: Skipping torchvision as it is not installed.\n",
      "WARNING: Skipping torchaudio as it is not installed.\n"
     ]
    }
   ],
   "source": [
    "pip install torch==2.2.2 torchvision==0.17.2 --index-url https://download.pytorch.org/whl/cpu\n",
    "\n"
   ]
  },
  {
   "cell_type": "code",
   "execution_count": 4,
   "id": "5bc496f6",
   "metadata": {},
   "outputs": [
    {
     "name": "stderr",
     "output_type": "stream",
     "text": [
      "Neither CUDA nor MPS are available - defaulting to CPU. Note: This module is much faster with a GPU.\n"
     ]
    },
    {
     "name": "stdout",
     "output_type": "stream",
     "text": [
      "Canali\n",
      "RESTAURANTE\n",
      "nenú\n",
      "Caua 4 anenitiua\n",
      "Caballa en salazón, servido con mousse\n",
      "de remolacha; canónigos y un gelificado de jengibre\n",
      "Enthanted a eleaih\n",
      "Carpaccio de ternera con texturas de limón y salicornias\n",
      "Ensalada de quinoa con tomates secos, albahaca,\n",
      "mojada y crujiente de yuca\n",
      "Sopa fría de pepino y aguacate  servido con un tartar de gambas\n",
      "Platod mhincihaled a eleqi\n",
      "Lubina salteada, servidos navaja, burrata y tomate\n",
      "en brunoise, risotto y salsa vino blanco\n",
      "Solomillo de cerdo ibérico con una muselina de\n",
      "calabaza y manzana asada, salsa de sidra\n",
      "Corona de cordero; puré de patata trufada, zanahoria\n",
      "caramelizada, salsa de romero\n",
      "Dadthed a elegi\n",
      "Tarta de queso con frutas rojas helado de fresa\n",
      "Coulan de chocolate con helado de vainilla\n",
      "*El menú incluye pan y ali i oli y 1/2 botella de vino por comensal\n"
     ]
    }
   ],
   "source": [
    "import easyocr\n",
    "\n",
    "reader = easyocr.Reader(['es'])\n",
    "results = reader.readtext('../img/menu.png')\n",
    "\n",
    "for detection in results:\n",
    "    print(detection[1])\n"
   ]
  }
 ],
 "metadata": {
  "kernelspec": {
   "display_name": "Python 3",
   "language": "python",
   "name": "python3"
  },
  "language_info": {
   "codemirror_mode": {
    "name": "ipython",
    "version": 3
   },
   "file_extension": ".py",
   "mimetype": "text/x-python",
   "name": "python",
   "nbconvert_exporter": "python",
   "pygments_lexer": "ipython3",
   "version": "3.12.1"
  }
 },
 "nbformat": 4,
 "nbformat_minor": 5
}
